{
  "cells": [
    {
      "cell_type": "markdown",
      "metadata": {
        "id": "view-in-github",
        "colab_type": "text"
      },
      "source": [
        "<a href=\"https://colab.research.google.com/github/bella0826/MNIST/blob/main/MNIST.ipynb\" target=\"_parent\"><img src=\"https://colab.research.google.com/assets/colab-badge.svg\" alt=\"Open In Colab\"/></a>"
      ]
    },
    {
      "cell_type": "code",
      "execution_count": null,
      "metadata": {
        "id": "7Kfjj3XxC9Ie"
      },
      "outputs": [],
      "source": [
        "import numpy as np\n",
        "import pandas as pd\n",
        "from keras.models import Sequential\n",
        "from keras.layers  import Dense, Dropout, Activation, Flatten\n",
        "from keras.layers import BatchNormalization\n",
        "from keras.layers import Conv2D, MaxPooling2D\n",
        "from keras.layers import Conv3D, MaxPooling3D\n",
        "#from tensorflow.keras.optimizers import SGD, RMSprop\n",
        "from keras import optimizers\n",
        "from keras.callbacks import ModelCheckpoint\n",
        "from keras import regularizers\n",
        "from sklearn.model_selection import train_test_split\n",
        "from tensorflow.python.keras.models import Model\n",
        "import tensorflow as tf\n",
        "from tensorflow import keras\n",
        "from keras.utils import np_utils\n",
        "\n",
        "from keras.datasets import mnist\n",
        "import matplotlib.pyplot as plt"
      ]
    },
    {
      "cell_type": "code",
      "execution_count": null,
      "metadata": {
        "id": "FkjGO37HE2RJ",
        "colab": {
          "base_uri": "https://localhost:8080/"
        },
        "outputId": "35586d14-3e6d-4f37-c694-e793f4c57752"
      },
      "outputs": [
        {
          "output_type": "stream",
          "name": "stdout",
          "text": [
            "Downloading data from https://storage.googleapis.com/tensorflow/tf-keras-datasets/mnist.npz\n",
            "11493376/11490434 [==============================] - 0s 0us/step\n",
            "11501568/11490434 [==============================] - 0s 0us/step\n"
          ]
        }
      ],
      "source": [
        "(x_train_image,y_train_label),(x_test_image,y_test_label) = mnist.load_data() #train_data = 60000, test_data = 10000\n",
        "\n",
        "#print(x_train_image.shape[0])"
      ]
    },
    {
      "cell_type": "code",
      "execution_count": null,
      "metadata": {
        "id": "x4TRiFCJ_zsc",
        "colab": {
          "base_uri": "https://localhost:8080/"
        },
        "outputId": "9a353d2a-42d7-4bda-d529-a9a28ae84248"
      },
      "outputs": [
        {
          "output_type": "stream",
          "name": "stdout",
          "text": [
            "(60000, 1, 28, 28)\n"
          ]
        }
      ],
      "source": [
        "x_train_norm = x_train_image.reshape(60000,1,28,28).astype('float32')/255  \n",
        "x_test_norm = x_test_image.reshape(10000,1,28,28).astype('float32')/255\n",
        "\n",
        "#normalization\n",
        "'''x_train_norm = x_train/255.0\n",
        "x_test_norm = x_test/255.0\n",
        "'''\n",
        "#one-hot-encoding\n",
        "y_train = np_utils.to_categorical(y_train_label)\n",
        "y_test = np_utils.to_categorical(y_test_label)\n",
        "print(x_train_norm.shape)"
      ]
    },
    {
      "cell_type": "code",
      "execution_count": null,
      "metadata": {
        "id": "cqfWA6dM_M-Z"
      },
      "outputs": [],
      "source": [
        "def build_model():\n",
        "  model = Sequential()\n",
        "  model.add(Conv2D(32,5,input_shape=(1,28,28),activation='relu',padding='same'))\n",
        "  model.add(MaxPooling2D(2,data_format='channels_first'))\n",
        "  model.add(BatchNormalization())\n",
        "\n",
        "  model.add(Conv2D(64,5,activation='relu',padding='same'))\n",
        "  model.add(MaxPooling2D(2,data_format='channels_first'))\n",
        "  \n",
        "  model.add(Flatten())\n",
        "  model.add(Dropout(0.5))\n",
        "  model.add(Dense(258,activation='relu'))\n",
        "  model.add(Dense(10,activation='softmax'))\n",
        "  \n",
        "  model.compile(loss='categorical_crossentropy', optimizer='adam', metrics = ['accuracy'])\n",
        "  \n",
        "  print(model.summary())\n",
        "  keras.utils.plot_model(model, show_shapes=True, dpi=64, to_file='model2.png')\n",
        "\n",
        "  return model"
      ]
    },
    {
      "cell_type": "code",
      "execution_count": null,
      "metadata": {
        "id": "L090ER1_DLwf"
      },
      "outputs": [],
      "source": [
        "def show_train_history(train_history,train,validation):\n",
        "  \n",
        "  if train == 'accuracy':\n",
        "    plt.plot(train_history.history[train])\n",
        "    plt.plot(train_history.history[validation])\n",
        "    plt.title('Train history(acc)')\n",
        "    plt.ylabel('train')\n",
        "    plt.xlabel('epoch')\n",
        "  else:\n",
        "    plt.plot(train_history.history[train])\n",
        "    plt.plot(train_history.history[validation])\n",
        "    plt.title('Train history(loss)')\n",
        "    plt.ylabel('train')\n",
        "    plt.xlabel('epoch')\n",
        "\n",
        "  plt.legend(['train','validation'],loc='upper left')\n",
        "  plt.show()"
      ]
    },
    {
      "cell_type": "code",
      "source": [
        "def plot_images_labels(images,labels,prediction,idx,num=10):\n",
        "    fig=plt.gcf()\n",
        "    fig.set_size_inches(12,14)\n",
        "    if num>25:\n",
        "        num=15\n",
        "    for i in range(0,num):\n",
        "        ax=plt.subplot(5,5,1+i)\n",
        "        ax.imshow(np.reshape(images[idx],(28,28)), cmap='binary')\n",
        "        title=\"label=\" +str(np.argmax(labels[idx]))\n",
        "        if len(prediction)>0:\n",
        "            title+=\",predict=\"+str(np.argmax(prediction[idx]))\n",
        "        ax.set_title(title,fontsize=10)\n",
        "        ax.set_xticks([])\n",
        "        ax.set_yticks([])\n",
        "        idx=idx+1\n",
        "    plt.show()"
      ],
      "metadata": {
        "id": "pPIO6R_fH0GP"
      },
      "execution_count": null,
      "outputs": []
    },
    {
      "cell_type": "code",
      "execution_count": null,
      "metadata": {
        "colab": {
          "base_uri": "https://localhost:8080/"
        },
        "id": "q2SbpcXs9ZYQ",
        "outputId": "1493c132-bedc-4236-f9cb-f4c0abd6423a"
      },
      "outputs": [
        {
          "output_type": "stream",
          "name": "stdout",
          "text": [
            "Model: \"sequential\"\n",
            "_________________________________________________________________\n",
            " Layer (type)                Output Shape              Param #   \n",
            "=================================================================\n",
            " conv2d (Conv2D)             (None, 1, 28, 32)         22432     \n",
            "                                                                 \n",
            " max_pooling2d (MaxPooling2D  (None, 1, 14, 16)        0         \n",
            " )                                                               \n",
            "                                                                 \n",
            " batch_normalization (BatchN  (None, 1, 14, 16)        64        \n",
            " ormalization)                                                   \n",
            "                                                                 \n",
            " conv2d_1 (Conv2D)           (None, 1, 14, 64)         25664     \n",
            "                                                                 \n",
            " max_pooling2d_1 (MaxPooling  (None, 1, 7, 32)         0         \n",
            " 2D)                                                             \n",
            "                                                                 \n",
            " flatten (Flatten)           (None, 224)               0         \n",
            "                                                                 \n",
            " dropout (Dropout)           (None, 224)               0         \n",
            "                                                                 \n",
            " dense (Dense)               (None, 258)               58050     \n",
            "                                                                 \n",
            " dense_1 (Dense)             (None, 10)                2590      \n",
            "                                                                 \n",
            "=================================================================\n",
            "Total params: 108,800\n",
            "Trainable params: 108,768\n",
            "Non-trainable params: 32\n",
            "_________________________________________________________________\n",
            "None\n",
            "Epoch 1/20\n",
            "240/240 - 13s - loss: 0.4622 - accuracy: 0.8569 - val_loss: 0.2759 - val_accuracy: 0.9679 - 13s/epoch - 56ms/step\n",
            "Epoch 2/20\n",
            "240/240 - 1s - loss: 0.1497 - accuracy: 0.9545 - val_loss: 0.0776 - val_accuracy: 0.9768 - 830ms/epoch - 3ms/step\n",
            "Epoch 3/20\n",
            "240/240 - 1s - loss: 0.1095 - accuracy: 0.9658 - val_loss: 0.0622 - val_accuracy: 0.9806 - 840ms/epoch - 4ms/step\n",
            "Epoch 4/20\n",
            "240/240 - 1s - loss: 0.0944 - accuracy: 0.9702 - val_loss: 0.0547 - val_accuracy: 0.9832 - 836ms/epoch - 3ms/step\n",
            "Epoch 5/20\n",
            "240/240 - 1s - loss: 0.0854 - accuracy: 0.9728 - val_loss: 0.0524 - val_accuracy: 0.9847 - 859ms/epoch - 4ms/step\n",
            "Epoch 6/20\n",
            "240/240 - 1s - loss: 0.0751 - accuracy: 0.9765 - val_loss: 0.0509 - val_accuracy: 0.9854 - 847ms/epoch - 4ms/step\n",
            "Epoch 7/20\n",
            "240/240 - 1s - loss: 0.0678 - accuracy: 0.9790 - val_loss: 0.0487 - val_accuracy: 0.9865 - 816ms/epoch - 3ms/step\n",
            "Epoch 8/20\n",
            "240/240 - 1s - loss: 0.0638 - accuracy: 0.9799 - val_loss: 0.0466 - val_accuracy: 0.9860 - 807ms/epoch - 3ms/step\n",
            "Epoch 9/20\n",
            "240/240 - 1s - loss: 0.0584 - accuracy: 0.9819 - val_loss: 0.0545 - val_accuracy: 0.9844 - 843ms/epoch - 4ms/step\n",
            "Epoch 10/20\n",
            "240/240 - 1s - loss: 0.0541 - accuracy: 0.9825 - val_loss: 0.0468 - val_accuracy: 0.9880 - 834ms/epoch - 3ms/step\n",
            "Epoch 11/20\n",
            "240/240 - 1s - loss: 0.0538 - accuracy: 0.9831 - val_loss: 0.0427 - val_accuracy: 0.9877 - 842ms/epoch - 4ms/step\n",
            "Epoch 12/20\n",
            "240/240 - 1s - loss: 0.0521 - accuracy: 0.9836 - val_loss: 0.0387 - val_accuracy: 0.9883 - 860ms/epoch - 4ms/step\n",
            "Epoch 13/20\n",
            "240/240 - 1s - loss: 0.0484 - accuracy: 0.9844 - val_loss: 0.0420 - val_accuracy: 0.9881 - 815ms/epoch - 3ms/step\n",
            "Epoch 14/20\n",
            "240/240 - 1s - loss: 0.0485 - accuracy: 0.9836 - val_loss: 0.0372 - val_accuracy: 0.9891 - 822ms/epoch - 3ms/step\n",
            "Epoch 15/20\n",
            "240/240 - 1s - loss: 0.0473 - accuracy: 0.9839 - val_loss: 0.0399 - val_accuracy: 0.9874 - 866ms/epoch - 4ms/step\n",
            "Epoch 16/20\n",
            "240/240 - 1s - loss: 0.0451 - accuracy: 0.9851 - val_loss: 0.0417 - val_accuracy: 0.9878 - 837ms/epoch - 3ms/step\n",
            "Epoch 17/20\n",
            "240/240 - 1s - loss: 0.0423 - accuracy: 0.9858 - val_loss: 0.0398 - val_accuracy: 0.9891 - 835ms/epoch - 3ms/step\n",
            "Epoch 18/20\n",
            "240/240 - 1s - loss: 0.0420 - accuracy: 0.9865 - val_loss: 0.0454 - val_accuracy: 0.9872 - 824ms/epoch - 3ms/step\n",
            "Epoch 19/20\n",
            "240/240 - 1s - loss: 0.0395 - accuracy: 0.9870 - val_loss: 0.0394 - val_accuracy: 0.9885 - 845ms/epoch - 4ms/step\n",
            "Epoch 20/20\n",
            "240/240 - 1s - loss: 0.0407 - accuracy: 0.9867 - val_loss: 0.0362 - val_accuracy: 0.9899 - 841ms/epoch - 4ms/step\n"
          ]
        }
      ],
      "source": [
        "#training\n",
        "model = build_model()\n",
        "\n",
        "train_history = model.fit(x=x_train_norm,y=y_train,validation_split=0.2,batch_size=200,epochs=20,verbose=2)"
      ]
    },
    {
      "cell_type": "code",
      "source": [
        "show_train_history(train_history,'accuracy','val_accuracy')\n",
        "show_train_history(train_history,'loss','val_loss')"
      ],
      "metadata": {
        "colab": {
          "base_uri": "https://localhost:8080/",
          "height": 573
        },
        "id": "aYOU5xRtRDih",
        "outputId": "50d3238b-48a1-4d60-dffb-1cb718396cb8"
      },
      "execution_count": null,
      "outputs": [
        {
          "output_type": "display_data",
          "data": {
            "text/plain": [
              "<Figure size 432x288 with 1 Axes>"
            ],
            "image/png": "[encoded data removed]"
          },
          "metadata": {
            "needs_background": "light"
          }
        },
        {
          "output_type": "display_data",
          "data": {
            "text/plain": [
              "<Figure size 432x288 with 1 Axes>"
            ],
            "image/png": "[encoded data removed]"
          },
          "metadata": {
            "needs_background": "light"
          }
        }
      ]
    },
    {
      "cell_type": "code",
      "execution_count": null,
      "metadata": {
        "colab": {
          "base_uri": "https://localhost:8080/"
        },
        "id": "9hieCpTXEDy7",
        "outputId": "b1539dcc-3021-4cb4-fd18-bcc4fa311640"
      },
      "outputs": [
        {
          "output_type": "stream",
          "name": "stdout",
          "text": [
            "313/313 [==============================] - 1s 4ms/step - loss: 0.0292 - accuracy: 0.9903\n",
            "\n",
            "accuracy: 0.9902999997138977\n"
          ]
        }
      ],
      "source": [
        "#testing\n",
        "scores=model.evaluate(x_test_norm,y_test)\n",
        "print()\n",
        "print('accuracy:',scores[1])"
      ]
    },
    {
      "cell_type": "code",
      "source": [
        "#print out the testing image\n",
        "predictions = (model.predict(x_test_norm) > 0.5).astype('int32')\n",
        "\n",
        "#print the result of predictions from test data(index = 200)\n",
        "plot_images_labels(x_test_norm,y_test,predictions,idx=200)  "
      ],
      "metadata": {
        "colab": {
          "base_uri": "https://localhost:8080/",
          "height": 321
        },
        "id": "0H7Bevn1H_DX",
        "outputId": "bc533c01-cd0e-4a76-995c-586c3742dff5"
      },
      "execution_count": null,
      "outputs": [
        {
          "output_type": "display_data",
          "data": {
            "text/plain": [
              "<Figure size 864x1008 with 10 Axes>"
            ],
            "image/png": "[encoded data removed]"
          },
          "metadata": {}
        }
      ]
    }
  ],
  "metadata": {
    "accelerator": "GPU",
    "colab": {
      "collapsed_sections": [],
      "provenance": [],
      "authorship_tag": "ABX9TyOcIhkNOud2aroxfR4SitDK",
      "include_colab_link": true
    },
    "gpuClass": "standard",
    "kernelspec": {
      "display_name": "Python 3",
      "name": "python3"
    },
    "language_info": {
      "name": "python"
    }
  },
  "nbformat": 4,
  "nbformat_minor": 0
}